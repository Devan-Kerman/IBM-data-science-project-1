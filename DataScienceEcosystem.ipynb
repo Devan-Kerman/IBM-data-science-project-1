{
 "cells": [
  {
   "cell_type": "markdown",
   "id": "9bca6788-9f42-4192-8e99-815d678af485",
   "metadata": {},
   "source": [
    "# Data Science Tools and Ecosystem"
   ]
  },
  {
   "cell_type": "markdown",
   "id": "b87566dc-131e-480d-b150-8b3fab00a0e5",
   "metadata": {},
   "source": [
    "In this notebook, Data Science Tools and Ecosystem are summarized."
   ]
  },
  {
   "cell_type": "markdown",
   "id": "f59d28f7-1a0d-4bab-83e1-a57f2c001f4a",
   "metadata": {},
   "source": [
    "Some of the popular languages that Data Scientists use are:\n",
    "1. Python\n",
    "2. R\n",
    "3. SQL\n",
    "4. Java\n",
    "5. Scala"
   ]
  },
  {
   "cell_type": "markdown",
   "id": "7d13f492-f8f6-468f-89c9-e89fd00d0a7f",
   "metadata": {},
   "source": [
    "Some of the commonly used libraries used by Data Scientists include:\n",
    "1. NumPy\n",
    "2. Scikit Learn\n",
    "3. Pandas\n",
    "4. Tensorflow"
   ]
  },
  {
   "cell_type": "markdown",
   "id": "e0528b60-c5be-436a-afde-13b22a526e8e",
   "metadata": {},
   "source": [
    "| Data Science Tools |\n",
    "----------------------\n",
    "| Visual Studio Code |\n",
    "| Jupyter Lab        |\n",
    "| Jupyter Notebook   |\n",
    "| Google Colab       |\n"
   ]
  },
  {
   "cell_type": "markdown",
   "id": "04c5676e-c203-457d-867a-673acfc82ed7",
   "metadata": {},
   "source": [
    "Below are a few examples of evaluating arithmetic expressions in Python"
   ]
  },
  {
   "cell_type": "code",
   "execution_count": 2,
   "id": "f7f3b06a-5172-4e96-b597-0a291fabfcfe",
   "metadata": {},
   "outputs": [
    {
     "data": {
      "text/plain": [
       "17"
      ]
     },
     "execution_count": 2,
     "metadata": {},
     "output_type": "execute_result"
    }
   ],
   "source": [
    "# This is a simple arithmetic expression to multiply then add integers\n",
    "(3*4)+5"
   ]
  },
  {
   "cell_type": "code",
   "execution_count": 6,
   "id": "0b17a9b2-4576-4eba-8ce4-ca93224c0253",
   "metadata": {},
   "outputs": [
    {
     "data": {
      "text/plain": [
       "'3.333 hours'"
      ]
     },
     "execution_count": 6,
     "metadata": {},
     "output_type": "execute_result"
    }
   ],
   "source": [
    "# This will convert 200 minutes to hours by dividing by 60\n",
    "f\"{(200 / 60):=.3f} hours\""
   ]
  },
  {
   "cell_type": "markdown",
   "id": "cfe9362f-3457-48de-943d-733ea128254d",
   "metadata": {},
   "source": [
    "**Objectives**:\n",
    "- List popular languages for data science\n",
    "- List popular libraries for data science\n",
    "- Perform Arithmetic Operations in Python in Jupyter\n",
    "- Create a Table in Markdown"
   ]
  },
  {
   "cell_type": "markdown",
   "id": "66456128-59b1-42f0-9137-cac0330154d2",
   "metadata": {},
   "source": [
    "## Author\n",
    "Devan Selvaraj"
   ]
  },
  {
   "cell_type": "code",
   "execution_count": null,
   "id": "4ed83f0c-0f31-463f-8d0d-ee152f849e64",
   "metadata": {},
   "outputs": [],
   "source": []
  }
 ],
 "metadata": {
  "kernelspec": {
   "display_name": "Python",
   "language": "python",
   "name": "conda-env-python-py"
  },
  "language_info": {
   "codemirror_mode": {
    "name": "ipython",
    "version": 3
   },
   "file_extension": ".py",
   "mimetype": "text/x-python",
   "name": "python",
   "nbconvert_exporter": "python",
   "pygments_lexer": "ipython3",
   "version": "3.7.12"
  }
 },
 "nbformat": 4,
 "nbformat_minor": 5
}
